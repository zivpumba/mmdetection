{
 "cells": [
  {
   "cell_type": "code",
   "execution_count": null,
   "id": "7f9e2e04-8d46-42dd-997b-992bc4b1e451",
   "metadata": {},
   "outputs": [],
   "source": [
    "pwd"
   ]
  },
  {
   "cell_type": "code",
   "execution_count": 1,
   "id": "215fed9e-1380-47d6-a0be-21c22479c6ad",
   "metadata": {},
   "outputs": [],
   "source": [
    "%matplotlib inline\n",
    "%load_ext autoreload\n",
    "%reload_ext autoreload\n",
    "%autoreload 2\n",
    "\n",
    "import os\n",
    "import sys\n",
    "import cv2\n",
    "import matplotlib.pyplot as plt\n",
    "import glob\n",
    "sys.path.append('../../Vision/DataManagement')\n",
    "\n",
    "import utils.inference.inference as infer\n",
    "import utils.inference.inference as infer\n",
    "from utils.inference.inference import MMdetDocker, RunInference\n",
    "os.chdir('/home/ubuntu/mmdetection')"
   ]
  },
  {
   "cell_type": "code",
   "execution_count": 10,
   "id": "203e49c8-6728-4b7c-bdc6-ed2c746a6627",
   "metadata": {},
   "outputs": [],
   "source": [
    "EXP = 'exp20'\n",
    "CFG_NAME = 'faster_rcnn_r50_caffe_fpn_mstrain_1x_coco-car_detector.py'\n",
    "EPOCH = 'epoch_20.pth'\n",
    "PORT = 8090"
   ]
  },
  {
   "cell_type": "code",
   "execution_count": 11,
   "id": "04979688-dfd6-4686-b326-14d23ee70625",
   "metadata": {},
   "outputs": [],
   "source": [
    "root_model = f\"/home/ubuntu/mmdetection/work_dirs/{EXP}\" \n",
    "cfg_path = f\"{root_model}/{CFG_NAME}\"\n",
    "model_path = f\"{root_model}/{EPOCH}\"\n",
    "output_folder = f\"/home/ubuntu/Vision/DataManagement/utils/inference/{EXP}\"\n",
    "model_name = EXP"
   ]
  },
  {
   "cell_type": "code",
   "execution_count": 12,
   "id": "a97c1a81-7d69-49c8-9953-c5e5f9b1d14f",
   "metadata": {},
   "outputs": [
    {
     "name": "stderr",
     "output_type": "stream",
     "text": [
      "/opt/conda/envs/open-mmlab/lib/python3.7/site-packages/mmcv/__init__.py:21: UserWarning: On January 1, 2023, MMCV will release v2.0.0, in which it will remove components related to the training process and add a data transformation module. In addition, it will rename the package names mmcv to mmcv-lite and mmcv-full to mmcv. See https://github.com/open-mmlab/mmcv/blob/master/docs/en/compatibility.md for more details.\n",
      "  'On January 1, 2023, MMCV will release v2.0.0, in which it will remove '\n",
      "ERROR:root:/home/ubuntu/Vision/DataManagement/utils/inference/exp20/exp20.mar already exists.\n",
      "Please specify --force/-f option to overwrite the model archive output file.\n",
      "See -h/--help for more details.\n"
     ]
    }
   ],
   "source": [
    "inference_path, model_name = infer.convert_model(cfg_path, model_path, output_folder, model_name)"
   ]
  },
  {
   "cell_type": "code",
   "execution_count": 13,
   "id": "f8d554ea-77ce-4edc-bfc6-c85f5c4df9f0",
   "metadata": {},
   "outputs": [],
   "source": [
    "docker = MMdetDocker(root=f\"/home/ubuntu/Vision/DataManagement/utils/inference\", inference_path=model_name, model_name=model_name, base_port = PORT, print_docker_exec = True)"
   ]
  },
  {
   "cell_type": "code",
   "execution_count": 14,
   "id": "dd07e950-deca-450b-bace-3729389b229e",
   "metadata": {},
   "outputs": [
    {
     "name": "stdout",
     "output_type": "stream",
     "text": [
      "sha256:4f76867ff3c29257442286cdd1c6dcb65d6587b0248678665e5a4230ae831109\n"
     ]
    }
   ],
   "source": [
    "docker.build_mmdet_docker()"
   ]
  },
  {
   "cell_type": "code",
   "execution_count": 15,
   "id": "7e3a1aa3-4dfb-4b35-9f01-eff3e8ec3349",
   "metadata": {},
   "outputs": [
    {
     "name": "stdout",
     "output_type": "stream",
     "text": [
      "docker run --rm --cpus 8 -p8090:8080 -p8091:8081 -p8092:8082 --mount type=bind,source=/home/ubuntu/Vision/DataManagement/utils/inference/exp20,target=/home/model-server/model-store mmdet-serve:latest\n"
     ]
    }
   ],
   "source": [
    "docker.run_mmdet_docker()"
   ]
  },
  {
   "cell_type": "code",
   "execution_count": 9,
   "id": "fe6f75be-621d-4ceb-bd83-be73edfafb4e",
   "metadata": {},
   "outputs": [
    {
     "data": {
      "text/plain": [
       "(199,\n",
       " ['/home/ubuntu/mmdetection/work_dirs/exp20/results/972_98_00780796_1.jpg',\n",
       "  '/home/ubuntu/mmdetection/work_dirs/exp20/results/972_00226317_1.jpg'])"
      ]
     },
     "execution_count": 9,
     "metadata": {},
     "output_type": "execute_result"
    }
   ],
   "source": [
    "test_images = glob.glob(f\"/home/ubuntu/mmdetection/work_dirs/exp20/results/*.jpg\")\n",
    "len(test_images), test_images[:2]"
   ]
  },
  {
   "cell_type": "code",
   "execution_count": null,
   "id": "6bcd4a58-7c46-4b3b-b1ce-f039bdd40901",
   "metadata": {},
   "outputs": [],
   "source": [
    "images_names = cu.clean_names_list(test_images)"
   ]
  },
  {
   "cell_type": "code",
   "execution_count": null,
   "id": "7859495e-5ca9-444f-aa01-0f6630f95e3a",
   "metadata": {},
   "outputs": [],
   "source": [
    "def plot_predictions(result, image):\n",
    "    x1, y1, x2, y2 = map(int, result['bbox'])\n",
    "    score = \"{:.2f}\".format(result['score'])\n",
    "    image = cv2.rectangle(image, (x1, y1), (x2, y2), (255,0,0), 2)\n",
    "    image = cv2.putText(image,\n",
    "                        score, \n",
    "                        (x1, y1),\n",
    "                        cv2.FONT_HERSHEY_SIMPLEX,\n",
    "                        0.2,\n",
    "                        (0, 0, 0),\n",
    "                        1,\n",
    "                        cv2.LINE_AA, False)\n",
    "    return image"
   ]
  },
  {
   "cell_type": "code",
   "execution_count": null,
   "id": "45a34c7e-2514-46e0-ad2c-78bb575f5652",
   "metadata": {},
   "outputs": [],
   "source": [
    "for test_image in test_images:\n",
    "    infer1 = RunInference(url_serve='http://127.0.0.1:8080/predictions', image_path=test_image, model_name='exp13')\n",
    "    infer2 = RunInference(url_serve='http://127.0.0.1:8090/predictions', image_path=test_image, model_name='exp20')\n",
    "    predictions1 = infer1.get_predicions()\n",
    "    predictions2 = infer2.get_predicions()\n",
    "    results1 = infer1.get_predicions()\n",
    "    results2 = infer2.get_predicions()\n",
    "    image = cv2.imread(f\"/home/ubuntu/Vision/DataManagement/utils/inference/0_111_02207063_1.jpg\")\n",
    "    for result in results:\n",
    "        image = plot_predictions(result, image)\n",
    "    plt.figure(figsize=(10,10)); plt.imshow(image); plt.show()"
   ]
  },
  {
   "cell_type": "code",
   "execution_count": null,
   "id": "f9f37afc-1dbb-4f5d-8544-78278a778235",
   "metadata": {},
   "outputs": [],
   "source": [
    "infer = RunInference(url_serve='http://127.0.0.1:8090/predictions', image_path=f\"/home/ubuntu/Vision/images/raw/98_00780796.jpg\", model_name='exp20')"
   ]
  },
  {
   "cell_type": "code",
   "execution_count": null,
   "id": "943668dd-b9e6-45f4-9e54-83c7b6cbbb9d",
   "metadata": {},
   "outputs": [],
   "source": [
    "predictions = infer.get_predicions()"
   ]
  },
  {
   "cell_type": "code",
   "execution_count": null,
   "id": "896785e3-fac4-4298-b9a7-98aa1023d924",
   "metadata": {},
   "outputs": [],
   "source": [
    "results = infer.get_predicions()\n",
    "len(results), results[:2]"
   ]
  },
  {
   "cell_type": "code",
   "execution_count": null,
   "id": "c793ab99-2325-4a0a-ac9f-012b14dc1d2f",
   "metadata": {},
   "outputs": [],
   "source": [
    "image = cv2.imread(f\"/home/ubuntu/Vision/images/raw/98_00780796.jpg\")\n",
    "for result in results:\n",
    "    x1, y1, x2, y2 = map(int, result['bbox'])\n",
    "    score = \"{:.2f}\".format(result['score'])\n",
    "    image = cv2.rectangle(image, (x1, y1), (x2, y2), (255,0,0), 2)\n",
    "    image = cv2.putText(image,\n",
    "                        score, \n",
    "                        (x1, y1),\n",
    "                        cv2.FONT_HERSHEY_SIMPLEX,\n",
    "                        0.2,\n",
    "                        (0, 0, 0),\n",
    "                        1,\n",
    "                        cv2.LINE_AA, False)\n",
    "plt.figure(figsize=(40,40)); plt.imshow(image); plt.show()"
   ]
  },
  {
   "cell_type": "code",
   "execution_count": null,
   "id": "9d32ad4c-c241-4a03-9c22-be23bdfe3fc6",
   "metadata": {},
   "outputs": [],
   "source": [
    "import utils.inference.detect as det"
   ]
  },
  {
   "cell_type": "code",
   "execution_count": null,
   "id": "2cfb0923-62d6-4cb2-acb2-5bb5f84250ae",
   "metadata": {},
   "outputs": [],
   "source": [
    "os.chdir(f\"/home/ubuntu/Vision/DataManagement/utils/inference\")"
   ]
  },
  {
   "cell_type": "code",
   "execution_count": null,
   "id": "3015eb6d-1546-43a0-8d26-78cbee59490f",
   "metadata": {},
   "outputs": [],
   "source": [
    "det.inference_yolov5_on_cloud('0_111_02207063_1.jpg')"
   ]
  },
  {
   "cell_type": "code",
   "execution_count": null,
   "id": "ebe874da-cc54-4cd8-b246-f2ddf694d164",
   "metadata": {},
   "outputs": [],
   "source": []
  },
  {
   "cell_type": "code",
   "execution_count": null,
   "id": "16d72962-e889-4834-a402-eed11b7825b3",
   "metadata": {},
   "outputs": [],
   "source": [
    "pwd"
   ]
  },
  {
   "cell_type": "code",
   "execution_count": null,
   "id": "8ff978bd-716d-4d63-8fa1-b1ee8ba78ec8",
   "metadata": {},
   "outputs": [],
   "source": [
    "import requests\n",
    "\n",
    "def yolo_im_encoder(image_path):\n",
    "    im = cv2.imread(image_path)[:,:,::-1]\n",
    "    _, x =cv2.imencode('.png', im,)\n",
    "    x_bites = x.tobytes()\n",
    "    return x_bites\n",
    "\n",
    "\n",
    "def yolo_get_predicions(image_path):\n",
    "    url_serve = \"http://odworkersgpu-asg-1-1734987265.eu-central-1.elb.amazonaws.com/detect-img\"\n",
    "    header = {\"content-type\": \"image\"}\n",
    "    # data  = yolo_im_encoder(image_path)\n",
    "    response = requests.post(url=url_serve, files={\"file\": (\"filename\", open(image_path, \"rb\"), \"image/jpeg\")}, json={})\n",
    "    return response.json()[0]"
   ]
  },
  {
   "cell_type": "code",
   "execution_count": null,
   "id": "3b412e32-787d-4cbb-ada3-6955b2e51412",
   "metadata": {},
   "outputs": [],
   "source": [
    "pred = yolo_get_predicions('0_111_02207063_1.jpg')\n",
    "pred"
   ]
  },
  {
   "cell_type": "code",
   "execution_count": null,
   "id": "bd2228b9-6af7-4d8e-b80d-ddc47ce00a8b",
   "metadata": {},
   "outputs": [],
   "source": [
    "image = cv2.imread(f\"0_111_02207063_1.jpg\")\n",
    "for result in pred:\n",
    "    x1, y1, x2, y2 = map(int, result[:-1])\n",
    "    score = \"{:.2f}\".format(result[-1])\n",
    "    image = cv2.rectangle(image, (x1, y1), (x2, y2), (255,0,0), 2)\n",
    "    image = cv2.putText(image,\n",
    "                        score, \n",
    "                        (x1, y1),\n",
    "                        cv2.FONT_HERSHEY_SIMPLEX,\n",
    "                        0.2,\n",
    "                        (0, 0, 0),\n",
    "                        1,\n",
    "                        cv2.LINE_AA, False)\n",
    "plt.figure(figsize=(10,10)); plt.imshow(image); plt.show()"
   ]
  },
  {
   "cell_type": "code",
   "execution_count": null,
   "id": "4369761f-60e5-4bac-ba6f-ae2a75bcd0df",
   "metadata": {},
   "outputs": [],
   "source": [
    "from mmcv import Config, DictAction\n",
    "from mmdet.utils import (collect_env, get_device, get_root_logger,\n",
    "                         replace_cfg_vals, setup_multi_processes,\n",
    "                         update_data_root)"
   ]
  },
  {
   "cell_type": "code",
   "execution_count": null,
   "id": "db431984-8e97-4d44-b78d-7d54624b83aa",
   "metadata": {},
   "outputs": [],
   "source": [
    "pwd"
   ]
  },
  {
   "cell_type": "code",
   "execution_count": null,
   "id": "4ac85c0a-ff73-4f97-91d6-278ce9781364",
   "metadata": {},
   "outputs": [],
   "source": [
    "cfg_path = '../work_dirs/exp20/faster_rcnn_r50_caffe_fpn_mstrain_1x_coco-car_detector.py'\n",
    "chckpnt_path = '../work_dirs/exp20/epoch_20.pth'"
   ]
  },
  {
   "cell_type": "code",
   "execution_count": null,
   "id": "abf9c328-7aa9-45ae-85a9-fe380562d098",
   "metadata": {},
   "outputs": [],
   "source": [
    "cfg = Config.fromfile('../work_dirs/exp20/faster_rcnn_r50_caffe_fpn_mstrain_1x_coco-car_detector.py')\n",
    "cfg = replace_cfg_vals(cfg)\n",
    "update_data_root(cfg)"
   ]
  },
  {
   "cell_type": "code",
   "execution_count": null,
   "id": "1a8e007d-73e3-4826-a376-c2cf689536fe",
   "metadata": {},
   "outputs": [],
   "source": [
    "cfg.keys()"
   ]
  },
  {
   "cell_type": "code",
   "execution_count": null,
   "id": "407c053b-59fc-416c-8347-d576150f98ea",
   "metadata": {},
   "outputs": [],
   "source": [
    "!python ../tools/deployment/pytorch2onnx.py {cfg_path} {chckpnt_path} --output-file ./epoch_20.onnx --verify --input-img ../tests/data/color.jpg"
   ]
  },
  {
   "cell_type": "code",
   "execution_count": null,
   "id": "dcc8ec51-7cc7-44b8-bcfe-c3a1e5fbfe4d",
   "metadata": {},
   "outputs": [],
   "source": []
  }
 ],
 "metadata": {
  "kernelspec": {
   "display_name": "open-mmlab",
   "language": "python",
   "name": "open-mmlab"
  },
  "language_info": {
   "codemirror_mode": {
    "name": "ipython",
    "version": 3
   },
   "file_extension": ".py",
   "mimetype": "text/x-python",
   "name": "python",
   "nbconvert_exporter": "python",
   "pygments_lexer": "ipython3",
   "version": "3.7.12"
  }
 },
 "nbformat": 4,
 "nbformat_minor": 5
}
